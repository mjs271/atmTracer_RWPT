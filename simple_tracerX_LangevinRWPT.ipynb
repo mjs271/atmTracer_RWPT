{
 "cells": [
  {
   "cell_type": "code",
   "execution_count": null,
   "metadata": {},
   "outputs": [],
   "source": [
    "import numpy as np\n",
    "import matplotlib.pyplot as plt\n",
    "# import RWPT_fxns as PTfxn\n",
    "import particles as PT\n",
    "import os"
   ]
  },
  {
   "cell_type": "code",
   "execution_count": null,
   "metadata": {},
   "outputs": [],
   "source": [
    "# from IPython.display import display, Math, Latex\n",
    "# import matplotlib.font_manager\n",
    "# plt.rcParams.update({\n",
    "#     \"text.usetex\": True,\n",
    "#     \"font.family\": \"serif\",\n",
    "#     \"font.serif\": [\"Computer Modern Roman\"]})\n",
    "import gif\n",
    "import matplotlib.animation as animation"
   ]
  },
  {
   "cell_type": "code",
   "execution_count": null,
   "metadata": {},
   "outputs": [],
   "source": [
    "make_gif = True"
   ]
  },
  {
   "cell_type": "code",
   "execution_count": null,
   "metadata": {},
   "outputs": [],
   "source": [
    "p = PT.Particles()"
   ]
  },
  {
   "cell_type": "code",
   "execution_count": null,
   "metadata": {},
   "outputs": [],
   "source": [
    "p.write_data(step=0)"
   ]
  },
  {
   "cell_type": "code",
   "execution_count": null,
   "metadata": {},
   "outputs": [],
   "source": [
    "print(p.params.nSaveSteps)"
   ]
  },
  {
   "cell_type": "code",
   "execution_count": null,
   "metadata": {},
   "outputs": [],
   "source": [
    "# save some work by doing the last emission step manually\n",
    "# e.g., in the case that emit_steps does not evenly divide N\n",
    "for i in np.arange(1, p.emit_steps):\n",
    "  # print(i)\n",
    "  p.particle_step_emit(i)\n",
    "# all particles are now active--make sure that's true\n",
    "assert (p.N_current == p.N_total)\n",
    "for i in np.arange(p.emit_steps, p.nSteps):\n",
    "  # print(i)\n",
    "  p.particle_step(i)"
   ]
  },
  {
   "cell_type": "code",
   "execution_count": null,
   "metadata": {},
   "outputs": [],
   "source": [
    "# end_vmax = np.max(velVec, 0)\n",
    "# end_vmin = np.min(velVec, 0)\n",
    "\n",
    "# print(f'max values = {end_vmax}')\n",
    "# print(f'min values = {end_vmin}')\n",
    "\n",
    "# for i in range(params.dim):\n",
    "#   if end_vmax[i] > params.Omega[1, i] or end_vmin[i] < params.Omega[0, i]:\n",
    "#     print(f'ERROR: velocities finished outside of valid domain')"
   ]
  },
  {
   "cell_type": "code",
   "execution_count": null,
   "metadata": {},
   "outputs": [],
   "source": [
    "frame = 0\n",
    "fig, ax = plt.subplots(2, 2)\n",
    "ax[0, 0].plot(tSeries_vel[:, 0, frame], tSeries_vel[:, 1, frame], marker='o', linestyle='None', markersize=6)\n",
    "frame = 1\n",
    "ax[0, 1].plot(tSeries_vel[:, 0, frame], tSeries_vel[:, 1, frame], marker='o', linestyle='None', markersize=6)\n",
    "frame = 2\n",
    "ax[1, 0].plot(tSeries_vel[:, 0, frame], tSeries_vel[:, 1, frame], marker='o', linestyle='None', markersize=6)\n",
    "frame = 3\n",
    "ax[1, 1].plot(tSeries_vel[:, 0, frame], tSeries_vel[:, 1, frame], marker='o', linestyle='None', markersize=6)"
   ]
  },
  {
   "cell_type": "code",
   "execution_count": null,
   "metadata": {},
   "outputs": [],
   "source": [
    "# gif_name = 'simple_tracerRW.gif'\n",
    "\n",
    "# if make_gif:\n",
    "#   if os.path.exists(gif_name):\n",
    "#     os.remove(gif_name)\n",
    "\n",
    "#   images = []\n",
    "\n",
    "#   axlimX = [np.min(tSeries_X[:, 0, 0]), np.max(tSeries_X[:, 0, -1])]\n",
    "#   axlimY = [np.min(tSeries_X[:, 1, 0]), np.max(tSeries_X[:, 1, -1])]\n",
    "\n",
    "#   @gif.frame\n",
    "#   def plotter(X):\n",
    "#     plt.scatter(X[:, 0], X[:, 1])\n",
    "#     ax = plt.gca()\n",
    "#     ax.set_xlim(axlimX)\n",
    "#     ax.set_ylim(axlimY)\n",
    "#     ax.text(0.5, 0.8, f'time = {frame * params.saveInterval} of {params.maxT}',\n",
    "#             horizontalalignment='center', verticalalignment='center',\n",
    "#             transform=ax.transAxes)\n",
    "\n",
    "\n",
    "#   for frame in range(0, params.nSaveSteps):\n",
    "#       images.append(plotter(tSeries_X[:, :, frame]))\n",
    "#   gif.save(images, gif_name, duration=100)"
   ]
  },
  {
   "cell_type": "code",
   "execution_count": null,
   "metadata": {},
   "outputs": [],
   "source": [
    "# do_animate = True\n",
    "\n",
    "# from IPython.display import clear_output\n",
    "\n",
    "# if do_animate:\n",
    "#   %matplotlib ipympl\n",
    "\n",
    "#   fig, ax = plt.subplots()\n",
    "#   splot = ax.plot([], [])[0]\n",
    "\n",
    "#   axlimX = [np.min(np.min(tSeries_X[:, 0, :])), np.max(np.max(tSeries_X[:, 0, :]))]\n",
    "#   axlimY = [np.min(np.min(tSeries_X[:, 1, :])), np.max(np.max(tSeries_X[:, 1, :]))]\n",
    "\n",
    "#   ax.set_xlim(axlimX)\n",
    "#   ax.set_ylim(axlimY)\n",
    "#   ax.text(0.5, 0.8, f'time = {frame * params.saveInterval} of {params.maxT}',\n",
    "#           horizontalalignment='center', verticalalignment='center',\n",
    "#           transform=ax.transAxes)\n",
    "\n",
    "#   def calc_mean(X):\n",
    "#     meanX = np.mean(X[:, 0])\n",
    "#     meanY = np.mean(X[:, 1])\n",
    "#     meanPair = [meanX, meanY]\n",
    "#     return meanPair\n",
    "\n",
    "#   def plotter(frame):\n",
    "#     ax.cla()\n",
    "#     X = tSeries_X[:, :, frame]\n",
    "#     ax.plot(X[:, 0], X[:, 1], marker='o',\n",
    "#                 linestyle='None', markersize=6)\n",
    "#     mean_pos = calc_mean(X)\n",
    "#     ax.plot(mean_pos[0], mean_pos[1], marker='X', color='orange',\n",
    "#             linewidth=3, markersize=10)\n",
    "#     ax.set_xlim(axlimX)\n",
    "#     ax.set_ylim(axlimY)\n",
    "#     ax.text(0.5, 1.1, f'time = {frame * params.saveInterval} of {params.maxT}',\n",
    "#             horizontalalignment='center', verticalalignment='center',\n",
    "#             transform=ax.transAxes)\n",
    "\n",
    "\n",
    "#   ani = animation.FuncAnimation(fig=fig, func=plotter,\n",
    "#                                 frames=np.arange(0, np.shape(tSeries_vel)[2]),\n",
    "#                                 interval=100, repeat=False, blit=True)\n",
    "# ani"
   ]
  },
  {
   "cell_type": "code",
   "execution_count": null,
   "metadata": {},
   "outputs": [],
   "source": [
    "# do_animate = True\n",
    "\n",
    "# from IPython.display import clear_output\n",
    "\n",
    "# if do_animate:\n",
    "#   %matplotlib ipympl\n",
    "\n",
    "#   fig, ax = plt.subplots()\n",
    "#   splot = ax.plot([], [])[0]\n",
    "\n",
    "#   axlimX = [np.min(np.min(tSeries_vel[:, 0, :])), np.max(np.max(tSeries_vel[:, 0, :]))]\n",
    "#   axlimY = [np.min(np.min(tSeries_vel[:, 1, :])), np.max(np.max(tSeries_vel[:, 1, :]))]\n",
    "\n",
    "#   ax.set_xlim(axlimX)\n",
    "#   ax.set_ylim(axlimY)\n",
    "#   ax.text(0.5, 1.1, f'time = {frame * params.saveInterval} of {params.maxT}',\n",
    "#           horizontalalignment='center', verticalalignment='center',\n",
    "#           transform=ax.transAxes)\n",
    "\n",
    "#   def calc_mean(X):\n",
    "#     meanX = np.mean(X[:, 0])\n",
    "#     meanY = np.mean(X[:, 1])\n",
    "#     meanPair = [meanX, meanY]\n",
    "#     return meanPair\n",
    "\n",
    "#   def plotter(frame):\n",
    "#     ax.cla()\n",
    "#     X = tSeries_vel[:, :, frame]\n",
    "#     ax.plot(X[:, 0], X[:, 1], marker='o',\n",
    "#                 linestyle='None', markersize=6)\n",
    "#     mean_pos = calc_mean(X)\n",
    "#     ax.plot(mean_pos[0], mean_pos[1], marker='X', color='orange',\n",
    "#             linewidth=3, markersize=10)\n",
    "#     ax.set_xlim(axlimX)\n",
    "#     ax.set_ylim(axlimY)\n",
    "#     ax.text(0.5, 1.1, f'time = {frame * params.saveInterval} of {params.maxT}',\n",
    "#             horizontalalignment='center', verticalalignment='center',\n",
    "#             transform=ax.transAxes)\n",
    "\n",
    "\n",
    "#   ani = animation.FuncAnimation(fig=fig, func=plotter,\n",
    "#                                 frames=np.arange(0, np.shape(tSeries_vel)[2]),\n",
    "#                                 interval=100, repeat=False, blit=True)\n",
    "# ani"
   ]
  }
 ],
 "metadata": {
  "kernelspec": {
   "display_name": "python-3.13",
   "language": "python",
   "name": "python3"
  },
  "language_info": {
   "codemirror_mode": {
    "name": "ipython",
    "version": 3
   },
   "file_extension": ".py",
   "mimetype": "text/x-python",
   "name": "python",
   "nbconvert_exporter": "python",
   "pygments_lexer": "ipython3",
   "version": "3.13.3"
  }
 },
 "nbformat": 4,
 "nbformat_minor": 2
}
