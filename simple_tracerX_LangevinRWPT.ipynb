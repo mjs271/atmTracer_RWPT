{
 "cells": [
  {
   "cell_type": "code",
   "execution_count": null,
   "metadata": {},
   "outputs": [],
   "source": [
    "import numpy as np\n",
    "# import matplotlib.pyplot as plt\n",
    "# import RWPT_fxns as PTfxn\n",
    "import particles as PT"
   ]
  },
  {
   "cell_type": "code",
   "execution_count": null,
   "metadata": {},
   "outputs": [],
   "source": [
    "# from IPython.display import display, Math, Latex\n",
    "# import matplotlib.font_manager\n",
    "# plt.rcParams.update({\n",
    "#     \"text.usetex\": True,\n",
    "#     \"font.family\": \"serif\",\n",
    "#     \"font.serif\": [\"Computer Modern Roman\"]})\n",
    "# import gif\n",
    "# import matplotlib.animation as animation"
   ]
  },
  {
   "cell_type": "code",
   "execution_count": null,
   "metadata": {},
   "outputs": [],
   "source": [
    "make_gif = True"
   ]
  },
  {
   "cell_type": "code",
   "execution_count": null,
   "metadata": {},
   "outputs": [],
   "source": [
    "p = PT.Particles()"
   ]
  },
  {
   "cell_type": "code",
   "execution_count": null,
   "metadata": {},
   "outputs": [],
   "source": [
    "p.write_data(step=0)"
   ]
  },
  {
   "cell_type": "code",
   "execution_count": null,
   "metadata": {},
   "outputs": [],
   "source": [
    "# save some work by doing the last emission step manually\n",
    "# e.g., in the case that emit_steps does not evenly divide N\n",
    "for i in np.arange(1, p.emit_steps):\n",
    "  # print(i)\n",
    "  p.particle_step_emit(i)\n",
    "# all particles are now active--make sure that's true\n",
    "assert (p.N_current == p.N_total)\n",
    "for i in np.arange(p.emit_steps, p.nSteps + 1):\n",
    "  # print(i)\n",
    "  p.particle_step(i)"
   ]
  },
  {
   "cell_type": "code",
   "execution_count": null,
   "metadata": {},
   "outputs": [],
   "source": [
    "import plotting as plotPT"
   ]
  },
  {
   "cell_type": "code",
   "execution_count": null,
   "metadata": {},
   "outputs": [],
   "source": [
    "frames = [0, 10, 20, 30, 40, 50]\n",
    "# plotPT.plot_scatter_snapshots(p, frames, plotPT.QOI_Plot.velocity)\n",
    "# plotPT.plot_scatter_snapshots(p, frames, plotPT.QOI_Plot.position)\n",
    "# plotPT.plot_scatter_snapshots(p, frames, plotPT.QOI_Plot.pNumber)\n",
    "plotPT.plot_snapshots(p, frames, plotPT.QOI_Plot.velocity, plotPT.PlotStyle.scatter)\n",
    "plotPT.plot_snapshots(p, frames, plotPT.QOI_Plot.position, plotPT.PlotStyle.scatter)\n",
    "plotPT.plot_snapshots(p, frames, plotPT.QOI_Plot.pNumber, plotPT.PlotStyle.scatter)"
   ]
  },
  {
   "cell_type": "code",
   "execution_count": null,
   "metadata": {},
   "outputs": [],
   "source": [
    "frames = [0, 10, 20, 30, 40, 50]\n",
    "plotPT.plot_snapshots(p, frames, plotPT.QOI_Plot.position,\n",
    "                      plotPT.PlotStyle.histogram, plotPT.HistStyle.flat)\n",
    "plotPT.plot_snapshots(p, frames, plotPT.QOI_Plot.position,\n",
    "                      plotPT.PlotStyle.histogram, plotPT.HistStyle.bars)"
   ]
  },
  {
   "cell_type": "code",
   "execution_count": null,
   "metadata": {},
   "outputs": [],
   "source": [
    "plot_scatter_gif = False\n",
    "gif_name=Xgif_name = 'gifRW_scatter_tracerTransport.gif'\n",
    "gif_name=vgif_name = 'gifRW_scatter_velocity.gif'\n",
    "plotPT.make_qoi_tGIF(p, plotPT.QOI_Plot.position, plotPT.PlotStyle.scatter,\n",
    "                     gif_name=Xgif_name, make_gif=plot_scatter_gif)\n",
    "plotPT.make_qoi_tGIF(p, plotPT.QOI_Plot.velocity, plotPT.PlotStyle.scatter,\n",
    "                     gif_name=vgif_name, make_gif=plot_scatter_gif)"
   ]
  },
  {
   "cell_type": "code",
   "execution_count": null,
   "metadata": {},
   "outputs": [],
   "source": [
    "plot_flathist_gif = False\n",
    "Xgif_name = 'gifRW_flathist_tracerTransport.gif'\n",
    "vgif_name = 'gifRW_flathist_velocity.gif'\n",
    "plotPT.make_qoi_tGIF(p, plotPT.QOI_Plot.position, plotPT.PlotStyle.histogram,\n",
    "                     plotPT.HistStyle.flat, gif_name=Xgif_name,\n",
    "                     make_gif=plot_flathist_gif)\n",
    "plotPT.make_qoi_tGIF(p, plotPT.QOI_Plot.velocity, plotPT.PlotStyle.histogram,\n",
    "                     plotPT.HistStyle.flat, gif_name=vgif_name,\n",
    "                     make_gif=plot_flathist_gif)"
   ]
  },
  {
   "cell_type": "code",
   "execution_count": null,
   "metadata": {},
   "outputs": [],
   "source": [
    "plot_barhist_gif = True\n",
    "Xgif_name = 'gifRW_barhist_tracerTransport.gif'\n",
    "vgif_name = 'gifRW_barhist_velocity.gif'\n",
    "plotPT.make_qoi_tGIF(p, plotPT.QOI_Plot.position, plotPT.PlotStyle.histogram,\n",
    "                     plotPT.HistStyle.bars, gif_name=Xgif_name,\n",
    "                     make_gif=plot_barhist_gif)\n",
    "plotPT.make_qoi_tGIF(p, plotPT.QOI_Plot.velocity, plotPT.PlotStyle.histogram,\n",
    "                     plotPT.HistStyle.bars, gif_name=vgif_name,\n",
    "                     make_gif=plot_barhist_gif)"
   ]
  },
  {
   "cell_type": "code",
   "execution_count": null,
   "metadata": {},
   "outputs": [],
   "source": []
  }
 ],
 "metadata": {
  "kernelspec": {
   "display_name": "python-3.13",
   "language": "python",
   "name": "python3"
  },
  "language_info": {
   "codemirror_mode": {
    "name": "ipython",
    "version": 3
   },
   "file_extension": ".py",
   "mimetype": "text/x-python",
   "name": "python",
   "nbconvert_exporter": "python",
   "pygments_lexer": "ipython3",
   "version": "3.13.3"
  }
 },
 "nbformat": 4,
 "nbformat_minor": 2
}
